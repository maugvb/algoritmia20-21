{
 "cells": [
  {
   "cell_type": "markdown",
   "metadata": {},
   "source": [
    "## Algoritmia\n",
    "### Práctica 11\n",
    "En esta práctica se trabaja con expresiones booleanas en *forma normal conjuntiva*. También se aplica la reducción del problema de la *satisfacibilidad* al del *k-clique*.\n",
    "\n",
    "En el cuerpo de cada función o método a implementar hay una instrucción \"pass\", se debe sustituir por la implementación adecuada. La implementación debe ser propia, sin incluir código ajeno o realizado conjuntamente. No se debe modificar el resto del código proporcionado.\n",
    "\n",
    "Para cada clase o función que se pide se proporcionan algunos tests. Las implementaciones deberían superar estos tests."
   ]
  },
  {
   "cell_type": "markdown",
   "metadata": {},
   "source": [
    "## Preámbulo\n",
    "No se puede importar de otros módulos, salvo que se consulte previamente con el profesor"
   ]
  },
  {
   "cell_type": "code",
   "execution_count": 1,
   "metadata": {},
   "outputs": [],
   "source": [
    "# Importaciones\n",
    "import unittest\n",
    "import networkx as nx\n",
    "import matplotlib.pyplot as plt\n",
    "\n",
    "%matplotlib inline"
   ]
  },
  {
   "cell_type": "markdown",
   "metadata": {},
   "source": [
    "## Clase `FormaNormalConjuntiva`"
   ]
  },
  {
   "cell_type": "code",
   "execution_count": null,
   "metadata": {},
   "outputs": [],
   "source": [
    "class FormaNormalConjuntiva:\n",
    "    \"\"\"\n",
    "    Clase que representa una expresión en forma normal conjuntiva.\n",
    "    Las cláusulas son secuencias con dos elementos, el primero contiene las\n",
    "    variables que están sin negar, el segundo las que están negadas.\n",
    "    \"\"\"\n",
    "\n",
    "    def __init__(self, *clausulas):\n",
    "        \"\"\"Constructor. Si se reciben cláusulas se añaden a la expresión.\"\"\"\n",
    "        self.var = [i for i in clausulas[0] if len(i) != 0] if clausulas != () else [] \n",
    "        self.clausulas = [j for i in self.var for j in i ]\n",
    "\n",
    "    def num_variables(self):\n",
    "        \"\"\"Devuelve el número de variables que aparecen en la expresión.\"\"\"\n",
    "        return len(self.clausulas)\n",
    "\n",
    "    def __len__(self):\n",
    "        \"\"\"Devuelve el número de clausulas.\"\"\"\n",
    "        return len(self.var)\n",
    "\n",
    "    def inserta_clausulas(self, *clausulas):\n",
    "        \"\"\"Inserta cláusulas adicionales al final de la expresión.\"\"\"\n",
    "        \n",
    "        for i in clausulas[0]:\n",
    "            for j in i:\n",
    "                if j not in self.clausulas:\n",
    "                    self.clausulas.append(j)\n",
    "        for i in clausulas:\n",
    "            self.var.append(i)\n",
    "            \n",
    "    def __getitem__(self, i):\n",
    "        \"\"\"Devuelve la cláusula i-ésima. Para la primera, i=0.\"\"\"\n",
    "        \n",
    "        return self.clausulas[i]\n",
    "        \n",
    "    def evalua(self, ciertas):\n",
    "        \"\"\"\n",
    "        Evalua la expresión, es decir, devuelve True o False, dada una\n",
    "        asignación de valores a las variables. La asignación se indica con el\n",
    "        iterable \"ciertas\" en el que están las variables que están a cierto.\n",
    "        El resto de variables se entiende que están a falso.\n",
    "        \"\"\"\n",
    "        aux = False\n",
    "        if ciertas in self.clausulas:\n",
    "            aux=True\n",
    "        return aux\n",
    "\n",
    "    def asignacion_satisfacible(self):       \n",
    "        \"\"\"\n",
    "        Si la expresión es satisfacible, devuelve una asignación que hace\n",
    "        la expresión cierta. La asignación se indica como un iterable de las\n",
    "        variables que están a cierto, el resto de variables estarán a falso.\n",
    "        Si la expresión no es satisfacible devuelve None.\n",
    "        \"\"\"\n",
    "        \n",
    "        pass"
   ]
  },
  {
   "cell_type": "markdown",
   "metadata": {},
   "source": [
    "### Tests para la clase `FormaNormalConjuntiva`"
   ]
  },
  {
   "cell_type": "code",
   "execution_count": null,
   "metadata": {},
   "outputs": [],
   "source": [
    "class TestFormaNormalConjuntiva(unittest.TestCase):\n",
    "    \"\"\"Tests para la clase ArbolBusquedaOptimo\"\"\"\n",
    "    \n",
    "    def test_forma_normal_conjuntiva_1(self):\n",
    "        \"\"\"Primer test para la clase FormaNormalConjuntiva.\"\"\"\n",
    "        \n",
    "        fnc = FormaNormalConjuntiva()\n",
    "        self.assertEqual(fnc.num_variables(), 0)\n",
    "        self.assertEqual(len(fnc), 0)\n",
    "    \n",
    "        fnc.inserta_clausulas([[\"x_1\", \"x_4\"], [\"x_3\"]])\n",
    "        self.assertEqual(fnc.num_variables(), 3)\n",
    "        self.assertEqual(len(fnc), 1)\n",
    "    \n",
    "        fnc.inserta_clausulas([[\"x_3\"], [\"x_2\", \"x_4\"]])\n",
    "        self.assertEqual(fnc.num_variables(), 4)\n",
    "        self.assertEqual(len(fnc), 2)\n",
    "    \n",
    "        self.assertTrue(fnc.evalua([]))\n",
    "        self.assertTrue(fnc.evalua((\"x_1\", \"x_2\", \"x_3\", \"x_4\")))\n",
    "        self.assertFalse(fnc.evalua((\"x_3\",)))\n",
    "        self.assertFalse(fnc.evalua((\"x_2\", \"x_4\")))\n",
    "    \n",
    "        asignacion = fnc.asignacion_satisfacible()\n",
    "        self.assertIsNotNone(asignacion)\n",
    "        self.assertTrue(fnc.evalua(asignacion))\n",
    "        \n",
    "    def test_forma_normal_conjuntiva_2(self):\n",
    "        \"\"\"Segundo test para la clase FormaNormalConjuntiva.\"\"\"\n",
    "        \n",
    "        fnc = FormaNormalConjuntiva([[\"x_1\", \"x_2\", \"x_3\"], []])\n",
    "        self.assertEqual(fnc.num_variables(), 3)\n",
    "        self.assertEqual(len(fnc), 1)\n",
    "    \n",
    "        fnc.inserta_clausulas(\n",
    "            [[\"x_2\"], [\"x_1\", \"x_3\"]],\n",
    "            [[\"x_1\", \"x_3\"], [\"x_2\"]],\n",
    "            [[], [\"x_1\", \"x_2\", \"x_3\"]])\n",
    "    \n",
    "        self.assertEqual(fnc.num_variables(), 3)\n",
    "        self.assertEqual(len(fnc), 4)\n",
    "        \n",
    "        self.assertTrue(fnc.evalua([\"x_1\"]))\n",
    "        self.assertFalse(fnc.evalua([]))\n",
    "        self.assertFalse(fnc.evalua([\"x_1\", \"x_2\", \"x_3\"]))\n",
    "    \n",
    "        asignacion = fnc.asignacion_satisfacible()\n",
    "        self.assertIsNotNone(asignacion)\n",
    "        self.assertTrue(fnc.evalua(asignacion))   \n",
    " \n",
    "    def test_forma_normal_conjuntiva_3(self):\n",
    "        \"\"\"Tercer test para la clase FormaNormalConjuntiva.\"\"\"\n",
    "        \n",
    "        fnc = FormaNormalConjuntiva(        \n",
    "            [[\"x_1\", \"x_2\", \"x_3\"], []],\n",
    "            [[\"x_2\", \"x_3\"], [\"x_1\"]])\n",
    "        self.assertEqual(fnc.num_variables(), 3)\n",
    "        self.assertEqual(len(fnc), 2)\n",
    "    \n",
    "        fnc.inserta_clausulas(\n",
    "            [[\"x_1\", \"x_3\"], [\"x_2\"]],\n",
    "            [[\"x_3\"], [\"x_1\", \"x_2\"]],\n",
    "            [[], [\"x_3\"]])\n",
    "        \n",
    "        self.assertEqual(fnc.num_variables(), 3)\n",
    "        self.assertEqual(len(fnc), 5)\n",
    "        \n",
    "        self.assertFalse(fnc.evalua([]))\n",
    "        self.assertFalse(fnc.evalua([\"x_1\", \"x_2\", \"x_3\"]))\n",
    "        \n",
    "        asignacion = fnc.asignacion_satisfacible()\n",
    "        self.assertIsNone(asignacion) \n",
    "    \n",
    "    def test_forma_normal_conjuntiva_4(self):\n",
    "        \"\"\"Cuarto test para la clase FormaNormalConjuntiva.\"\"\"\n",
    "        \n",
    "        fnc = FormaNormalConjuntiva()\n",
    "        self.assertEqual(fnc.num_variables(),  0)\n",
    "        self.assertEqual(len(fnc), 0)\n",
    "    \n",
    "        fnc.inserta_clausulas(\n",
    "            [[\"x_1\", \"x_2\"], []],\n",
    "            [[\"x_2\", \"x_3\"], []],\n",
    "            [[\"x_3\", \"x_4\"], []],\n",
    "            [[\"x_4\", \"x_5\"], []],\n",
    "            [[\"x_5\", \"x_6\"], []])\n",
    "        \n",
    "        self.assertEqual(fnc.num_variables(), 6)\n",
    "        self.assertEqual(len(fnc), 5)\n",
    "        \n",
    "        self.assertFalse(fnc.evalua([]))\n",
    "        self.assertFalse(fnc.evalua([\"x_1\", \"x_2\", \"x_3\"]))\n",
    "        self.assertTrue(fnc.evalua([\"x_2\", \"x_4\", \"x_6\"]))\n",
    "        self.assertTrue(fnc.evalua([\"x_1\", \"x_3\", \"x_5\"]))\n",
    "        \n",
    "        asignacion = fnc.asignacion_satisfacible()\n",
    "        self.assertIsNotNone(asignacion)\n",
    "        self.assertTrue(fnc.evalua(asignacion))"
   ]
  },
  {
   "cell_type": "markdown",
   "metadata": {},
   "source": [
    "## Reducción a k-clique\n",
    "La implementación de grafo utilizada es [`Graph`](https://networkx.github.io/documentation/stable/reference/classes/graph.html) the [NetworkX](https://networkx.github.io/)."
   ]
  },
  {
   "cell_type": "code",
   "execution_count": 2,
   "metadata": {},
   "outputs": [],
   "source": [
    "def reduccion_a_clique(fnc):\n",
    "    \"\"\"\n",
    "    Dada una expresión en forma normal conjuntiva, devuelve el grafo \n",
    "    correspondiente a la reducción al problema del k-clique.\n",
    "    Los nodos son cadenas con el formato \"(i:l)\", donde i es el número de\n",
    "    clásula y l representa el literal. El literal es la variable, precedido por\n",
    "    '!' si está negada.\n",
    "    \"\"\"\n",
    "    \n",
    "    print(fnc)"
   ]
  },
  {
   "cell_type": "markdown",
   "metadata": {},
   "source": [
    "### Grafo de prueba"
   ]
  },
  {
   "cell_type": "code",
   "execution_count": 3,
   "metadata": {},
   "outputs": [],
   "source": [
    "def grafo_de_prueba():\n",
    "    \"\"\"\n",
    "    Devuelve un grafo como los que se pueden obtener con reduccion_a_clique().\n",
    "    \"\"\"\n",
    "    \n",
    "    return nx.Graph([\n",
    "        ('0:x_2', '2:!x_1'), ('0:x_2', '1:!x_1'), ('0:x_2', '1:x_3'), \n",
    "        ('0:x_2', '1:x_2'), ('0:x_2', '2:x_3'), ('1:!x_1', '2:!x_1'), \n",
    "        ('1:!x_1', '2:x_3'), ('2:!x_1', '1:x_3'), ('2:!x_1', '1:x_2'), \n",
    "        ('0:x_1', '1:x_3'), ('0:x_1', '1:x_2'), ('0:x_1', '2:x_3'), \n",
    "        ('2:x_3', '1:x_3'), ('2:x_3', '1:x_2')])"
   ]
  },
  {
   "cell_type": "markdown",
   "metadata": {},
   "source": [
    "### Dibujo de grafos"
   ]
  },
  {
   "cell_type": "code",
   "execution_count": 4,
   "metadata": {},
   "outputs": [
    {
     "data": {
      "image/png": "[encoded data removed]",
      "text/plain": [
       "<Figure size 432x288 with 1 Axes>"
      ]
     },
     "metadata": {},
     "output_type": "display_data"
    },
    {
     "data": {
      "image/png": "[encoded data removed]",
      "text/plain": [
       "<Figure size 432x288 with 1 Axes>"
      ]
     },
     "metadata": {},
     "output_type": "display_data"
    }
   ],
   "source": [
    "def dibuja_grafo_de_reduccion(grafo, posicionado=False):\n",
    "    \"\"\"\n",
    "    Dibuja un grafo, suponiendo que las etiquetas de los nodos siguen el formato\n",
    "    utilizado en reduccion_a_clique().\n",
    "    Si el argumento \"posicionado\" es cierto, la posición de cada nodo depende de\n",
    "    la claúsula y literal correspondiente.\n",
    "    \"\"\"\n",
    "    \n",
    "    pos = None\n",
    "    if posicionado:\n",
    "        pos = {n: (int(n.split(\":\")[0]), int(n.split(\"_\")[1])) \n",
    "               for n in grafo.nodes()}\n",
    "    \n",
    "    nx.draw(grafo, with_labels = True, node_size = 2000, pos = pos)\n",
    "    plt.show()\n",
    "\n",
    "    \n",
    "if __name__ == \"__main__\": \n",
    "    dibuja_grafo_de_reduccion(grafo_de_prueba())\n",
    "    dibuja_grafo_de_reduccion(grafo_de_prueba(), True)"
   ]
  },
  {
   "cell_type": "markdown",
   "metadata": {},
   "source": [
    "### Igualdad de grafos"
   ]
  },
  {
   "cell_type": "code",
   "execution_count": 5,
   "metadata": {},
   "outputs": [],
   "source": [
    "def grafos_iguales(g1, g2):\n",
    "    \"\"\"\n",
    "    Devuelve un booleano indicando si dos grafos son iguales: tienen los\n",
    "    mismos nodos y arcos.\n",
    "    \"\"\"\n",
    "    \n",
    "    if set(g1.nodes()) != set(g2.nodes()):\n",
    "        return False\n",
    "  \n",
    "    # No funciona comparar g1.edges() con g2.edges() porque en los arcos los \n",
    "    # nodos puede aparecer en distinto orden.\n",
    "    \n",
    "    for a, b in [(g1, g2), (g2, g1)]:\n",
    "        for u, v in a.edges():\n",
    "            if not b.has_edge(u, v):\n",
    "                return False\n",
    "    return True"
   ]
  },
  {
   "cell_type": "markdown",
   "metadata": {},
   "source": [
    "### Tests para `reduccion_a_clique`"
   ]
  },
  {
   "cell_type": "code",
   "execution_count": 6,
   "metadata": {},
   "outputs": [],
   "source": [
    "class TestReduccionAClique(unittest.TestCase):\n",
    "    \"\"\"Tests para la función reduccion_a_clique()\"\"\"\n",
    "        \n",
    "    def test_reduccion_a_clique(self):\n",
    "        \n",
    "        fnc = FormaNormalConjuntiva(\n",
    "            [[\"x_1\", \"x_2\"], []],\n",
    "            [[\"x_2\", \"x_3\"], [\"x_1\"]],\n",
    "            [[\"x_3\"], [\"x_1\"]]\n",
    "        )    \n",
    "        \n",
    "        g1 = reduccion_a_clique(fnc)\n",
    "        g2 = grafo_de_prueba()\n",
    "        \n",
    "        self.assertTrue(grafos_iguales(g1, g2))  \n",
    "        self.assertTrue(grafos_iguales(g2, g1))"
   ]
  },
  {
   "cell_type": "markdown",
   "metadata": {},
   "source": [
    "## Ejecución de tests"
   ]
  },
  {
   "cell_type": "code",
   "execution_count": 7,
   "metadata": {},
   "outputs": [
    {
     "name": "stderr",
     "output_type": "stream",
     "text": [
      "E\n",
      "======================================================================\n",
      "ERROR: test_reduccion_a_clique (__main__.TestReduccionAClique)\n",
      "----------------------------------------------------------------------\n",
      "Traceback (most recent call last):\n",
      "  File \"<ipython-input-6-a396455d4dce>\", line 6, in test_reduccion_a_clique\n",
      "    fnc = FormaNormalConjuntiva(\n",
      "NameError: name 'FormaNormalConjuntiva' is not defined\n",
      "\n",
      "----------------------------------------------------------------------\n",
      "Ran 1 test in 0.002s\n",
      "\n",
      "FAILED (errors=1)\n"
     ]
    }
   ],
   "source": [
    "if __name__ == '__main__':\n",
    "    unittest.main(argv=['first-arg-is-ignored'], exit=False)"
   ]
  },
  {
   "cell_type": "code",
   "execution_count": null,
   "metadata": {},
   "outputs": [],
   "source": []
  }
 ],
 "metadata": {
  "anaconda-cloud": {},
  "kernelspec": {
   "display_name": "Python 3",
   "language": "python",
   "name": "python3"
  },
  "language_info": {
   "codemirror_mode": {
    "name": "ipython",
    "version": 3
   },
   "file_extension": ".py",
   "mimetype": "text/x-python",
   "name": "python",
   "nbconvert_exporter": "python",
   "pygments_lexer": "ipython3",
   "version": "3.8.5"
  }
 },
 "nbformat": 4,
 "nbformat_minor": 1
}
