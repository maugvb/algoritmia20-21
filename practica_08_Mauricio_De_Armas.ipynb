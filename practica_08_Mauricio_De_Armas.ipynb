{
 "cells": [
  {
   "cell_type": "markdown",
   "metadata": {},
   "source": [
    "# Algoritmia\n",
    "## Práctica 8\n",
    "En esta práctica se trabaja con el problema de la subsecuencia común más larga.\n",
    "\n",
    "En el cuerpo de cada función o método a implementar hay una instrucción \"pass\", se debe sustituir por la implementación adecuada. La implementación debe ser propia, sin incluir código ajeno o realizado conjuntamente. No se debe modificar el resto del código proporcionado.\n",
    "\n",
    "Para cada clase o función que se pide se proporcionan algunos tests. Las implementaciones deberían superar estos tests."
   ]
  },
  {
   "cell_type": "markdown",
   "metadata": {},
   "source": [
    "## Preámbulo\n",
    "No se puede importar de otros módulos, salvo que se consulte previamente con el profesor. "
   ]
  },
  {
   "cell_type": "code",
   "execution_count": 1,
   "metadata": {},
   "outputs": [],
   "source": [
    "# Importaciones\n",
    "import unittest"
   ]
  },
  {
   "cell_type": "markdown",
   "metadata": {},
   "source": [
    "## Subsecuencia común más larga\n",
    "### Función `subsecuencia_comun_mas_larga`"
   ]
  },
  {
   "cell_type": "code",
   "execution_count": 2,
   "metadata": {},
   "outputs": [],
   "source": [
    "def subsecuencia_comun_mas_larga(x, y):\n",
    "    \"\"\"\n",
    "    Dadas dos cadenas x e y devuelve una que es subsecuencia de ambas y que \n",
    "    tiene la longitud máxima de todas las subsecuencias comunes.\n",
    "    \"\"\"\n",
    "    #Inicialización de varibles.\n",
    "    res=[]\n",
    "    sub = []\n",
    "    i=len(y)-1\n",
    "    j=len(x)-1\n",
    "    #Se rellena la matriz\n",
    "    rellenarMatriz(x,y,sub)\n",
    "    #Se obtiene la subsecuencia comun mas larga\n",
    "    while sub[i][j]!=0:\n",
    "        if y[i] == x[j]:\n",
    "            res.insert(0,x[j])\n",
    "            i-=1\n",
    "            j-=1\n",
    "        else:\n",
    "            if sub[i-1][j] <= sub[i][j-1]:\n",
    "                j-=1\n",
    "            else:\n",
    "                i-=1\n",
    "    return res\n",
    "\n",
    "\n",
    "#Función Auxiliar\n",
    "def rellenarMatriz(x,y,sub):\n",
    "    #Inicializar Matriz a ceros\n",
    "    for i in range(len (y)+1):\n",
    "        sub.append([])\n",
    "        for j in range(len(x)+1):\n",
    "            sub[i].append(0)\n",
    "    #Rellenar Matriz con valores\n",
    "    for i in range(len(y)):\n",
    "        for j in range(len(x)):\n",
    "            if y[i] == x[j]:\n",
    "                aux = sub[i-1][j-1] + 1\n",
    "            else:\n",
    "                aux=max(sub[i-1][j], sub[i][j-1])\n",
    "            sub[i][j]=aux\n",
    "       "
   ]
  },
  {
   "cell_type": "markdown",
   "metadata": {},
   "source": [
    "## Función `es_subsecuencia`\n",
    "Función que se usará en los tests"
   ]
  },
  {
   "cell_type": "code",
   "execution_count": 3,
   "metadata": {},
   "outputs": [],
   "source": [
    "def es_subsecuencia(subsecuencia, secuencia):\n",
    "    \"\"\"Indica si el primer argumento es subsecuencia del segundo\"\"\"\n",
    "    \n",
    "    it = iter(secuencia)   \n",
    "    return all(c in it for c in subsecuencia)"
   ]
  },
  {
   "cell_type": "markdown",
   "metadata": {},
   "source": [
    "### Tests para `es_subsecuencia`"
   ]
  },
  {
   "cell_type": "code",
   "execution_count": 4,
   "metadata": {},
   "outputs": [],
   "source": [
    "class TestEsSubsecuencia(unittest.TestCase):\n",
    "\n",
    "    def test_positivos(self):\n",
    "        \n",
    "        for subsecuencia, secuencia in (\n",
    "                (\"GTTC\", \"GTTCCTAATA\"),\n",
    "                (\"CCTA\", \"GTTCCTAATA\"),\n",
    "                (\"AATA\", \"GTTCCTAATA\"),\n",
    "                (\"GTCAT\", \"GTTCCTAATA\"),\n",
    "                (\"TCTAA\", \"GTTCCTAATA\"),\n",
    "                (\"GTTCCTAATA\", \"GTTCCTAATA\"),\n",
    "        ):\n",
    "            self.assertTrue(es_subsecuencia(subsecuencia, secuencia))\n",
    "            \n",
    "    def test_negativos(self):\n",
    "        \n",
    "        for subsecuencia, secuencia in (\n",
    "                (\"GTTCCTTATA\", \"GTTCCTAATA\"),\n",
    "                (\"GGTTCCTAATA\", \"GTTCCTAATA\"),            \n",
    "                (\"GTTCCTAATAA\", \"GTTCCTAATA\"),\n",
    "                (\"GG\", \"GTTCCTAATA\"), \n",
    "                (\"AC\", \"GTTCCTAATA\"), \n",
    "                (\"TGTCCTAATA\", \"GTTCCTAATA\"),\n",
    "                (\"ATAA\", \"GTTCCTAATA\"), \n",
    "\n",
    "        ):\n",
    "            self.assertFalse(es_subsecuencia(subsecuencia, secuencia))                 "
   ]
  },
  {
   "cell_type": "markdown",
   "metadata": {},
   "source": [
    "### Tests para `subsecuencia_comun_mas_larga`"
   ]
  },
  {
   "cell_type": "code",
   "execution_count": 5,
   "metadata": {},
   "outputs": [],
   "source": [
    "class TestSubsecuenciaComunMasLarga(unittest.TestCase):\n",
    "\n",
    "    def test_subsecuencia_comun_mas_larga(self):\n",
    "        \n",
    "        for s1, s2, longitud in (\n",
    "            (\"GTTCCTAATA\", \"CGATAATTGAGA\", 6),\n",
    "            (\"ACDAADDADDDDCCBCBCAD\", \"ADBDBBCDBDAABBDDDCBB\", 11),\n",
    "            (\"BBDABCCADCCADADDCACAACBA\", \"DBCBBDCBADABBBCCCDCACAADDACADD\", 17),\n",
    "            (\"01111000000111100011\", \"10010100000100101111\", 14),\n",
    "            ('TTTATTTCGTCTAACTTATGACGTCCCTTCACGATCCAA',\n",
    "             'TGGCCGGTTATTCAAGAGCGATATGTGCTATAAAGTGCC', 23)\n",
    "        ):    \n",
    "            for x, y in ((s1, s2), (s2, s1)):\n",
    "                subsecuencia = subsecuencia_comun_mas_larga(x, y)\n",
    "                self.assertEqual(len(subsecuencia), longitud)\n",
    "                for secuencia in x, y:\n",
    "                    self.assertTrue(es_subsecuencia(subsecuencia, secuencia))                 "
   ]
  },
  {
   "cell_type": "markdown",
   "metadata": {},
   "source": [
    "## Todas las subsecuencias comunes más largas \n",
    "Variante en la que en vez de devolver una única subsecuencia se devuelven todas\n",
    "### Función `subsecuencias_comunes_mas_largas`"
   ]
  },
  {
   "cell_type": "code",
   "execution_count": 6,
   "metadata": {},
   "outputs": [],
   "source": [
    "def subsecuencias_comunes_mas_largas(x, y):\n",
    "    \"\"\"\n",
    "    Dadas dos cadenas x e y devuelve un conjunto con todas las subsecuencias de \n",
    "    ambas que tienen longitud máxima.\n",
    "    \"\"\"\n",
    "    #Inicialización de variables\n",
    "    sub = []\n",
    "    #Se rellena la matriz\n",
    "    rellenarMatriz(x,y,sub)\n",
    "    #Se obtienen las subsecuencias comunes mas largas de manera recursiva\n",
    "    res = subsecuencias_comunes_mas_largas_recursivo(x, y, len(y)-1, len(x)-1, sub)\n",
    "    return set(res)\n",
    "\n",
    "#Función Auxiliar\n",
    "def subsecuencias_comunes_mas_largas_recursivo(x, y, numFilas, numColum, sub):\n",
    "    \n",
    "    if numFilas == -1 or numColum == -1:\n",
    "        return [\"\"]\n",
    "    #Cuando no coinciden los caracteres\n",
    "    if x[numColum] != y[numFilas]:\n",
    "        #Cuando el numero de la izquierda es mayor que el de arriba\n",
    "        if sub[numFilas - 1][numColum] < sub[numFilas][numColum - 1]:\n",
    "            return subsecuencias_comunes_mas_largas_recursivo(x, y, numFilas, numColum - 1, sub)\n",
    "        #Cuando el numero de arriba es mayor que el de la izquierda\n",
    "        if sub[numFilas - 1][numColum] > sub[numFilas][numColum - 1]:\n",
    "            return subsecuencias_comunes_mas_largas_recursivo(x, y, numFilas - 1, numColum, sub)\n",
    "        #Cuando son iguales\n",
    "        if sub[numFilas - 1][numColum] == sub[numFilas][numColum - 1]:\n",
    "            #Se obtienen las subsecuencias de arriba y la izquierda.\n",
    "            secuArriba = subsecuencias_comunes_mas_largas_recursivo(x, y, numFilas - 1, numColum, sub)\n",
    "            secuIzq = subsecuencias_comunes_mas_largas_recursivo(x, y, numFilas, numColum - 1, sub)\n",
    "            subsecuencias = secuArriba + secuIzq\n",
    "            return subsecuencias\n",
    "     \n",
    "    #Cuando coinciden los caracteres se concatenan las letras de las secuencias a las subsecuencias.\n",
    "    subsec = subsecuencias_comunes_mas_largas_recursivo(x, y, numFilas - 1, numColum - 1, sub)\n",
    "    for i in range(len(subsec)):\n",
    "        subsec[i] += x[numColum]\n",
    "    return subsec\n",
    "         \n",
    "        \n",
    "        \n",
    "\n",
    "    \n",
    "\n",
    "    "
   ]
  },
  {
   "cell_type": "markdown",
   "metadata": {},
   "source": [
    "### Tests para `subsecuencias_comunes_mas_largas`"
   ]
  },
  {
   "cell_type": "code",
   "execution_count": 7,
   "metadata": {},
   "outputs": [],
   "source": [
    "class TestSubsecuenciasComunesMasLarga(unittest.TestCase):\n",
    "\n",
    "    def test_subsecuencias_comunes_mas_largas(self):\n",
    "        \n",
    "        for s1, s2, longitud, numero in ( \n",
    "                (\"GTTCCTAATA\", \"CGATAATTGAGA\", 6, 3),\n",
    "                (\"ACDAADDADDDDCCBCBCAD\", \"ADBDBBCDBDAABBDDDCBB\", 11, 4),\n",
    "                (\"BBDABCCADCCADADDCACAACBA\", \"DBCBBDCBADABBBCCCDCACAADDACADD\", \n",
    "                 17, 1),\n",
    "                (\"01111000000111100011\", \"10010100000100101111\", 14, 10),\n",
    "                ('TTTATTTCGTCTAACTTATGACGTCCCTTCACGATCCAA',\n",
    "                 'TGGCCGGTTATTCAAGAGCGATATGTGCTATAAAGTGCC', 23, 20)\n",
    "            \n",
    "        ):    \n",
    "            for x, y in ((s1, s2), (s2, s1)):\n",
    "                subsecuencias = subsecuencias_comunes_mas_largas(x, y)\n",
    "                self.assertTrue(isinstance(subsecuencias, set))\n",
    "                self.assertEqual(len(subsecuencias), numero)\n",
    "                for subsecuencia in subsecuencias:\n",
    "                    self.assertEqual(len(subsecuencia), longitud)\n",
    "                    for secuencia in x, y:\n",
    "                        self.assertTrue(es_subsecuencia(subsecuencia, secuencia))               "
   ]
  },
  {
   "cell_type": "markdown",
   "metadata": {},
   "source": [
    "## Ejecución de tests"
   ]
  },
  {
   "cell_type": "code",
   "execution_count": 8,
   "metadata": {},
   "outputs": [
    {
     "name": "stderr",
     "output_type": "stream",
     "text": [
      "....\n",
      "----------------------------------------------------------------------\n",
      "Ran 4 tests in 0.156s\n",
      "\n",
      "OK\n"
     ]
    }
   ],
   "source": [
    "if __name__ == '__main__':\n",
    "    unittest.main(argv=['first-arg-is-ignored'], exit=False)"
   ]
  },
  {
   "cell_type": "code",
   "execution_count": null,
   "metadata": {},
   "outputs": [],
   "source": []
  }
 ],
 "metadata": {
  "kernelspec": {
   "display_name": "Python 3",
   "language": "python",
   "name": "python3"
  },
  "language_info": {
   "codemirror_mode": {
    "name": "ipython",
    "version": 3
   },
   "file_extension": ".py",
   "mimetype": "text/x-python",
   "name": "python",
   "nbconvert_exporter": "python",
   "pygments_lexer": "ipython3",
   "version": "3.8.5"
  }
 },
 "nbformat": 4,
 "nbformat_minor": 1
}
