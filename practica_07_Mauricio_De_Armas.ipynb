{
 "cells": [
  {
   "cell_type": "markdown",
   "metadata": {},
   "source": [
    "# Algoritmia\n",
    "## Práctica 7\n",
    "En esta práctica se resolverá el problema de las Torres de Hanoi, con dos añadidos: el número de postes puede ser mayor que 3, los discos pueden estar en cualquiera de los postes.\n",
    "\n",
    "En el cuerpo de cada función o método a implementar hay una instrucción \"pass\", se debe sustituir por la implementación adecuada. La implementación debe ser propia, sin incluir código ajeno o realizado conjuntamente. No se debe modificar el resto del código proporcionado.\n",
    "\n",
    "Para cada clase o función que se pide se proporcionan algunos tests. Las implementaciones deberían superar estos tests."
   ]
  },
  {
   "cell_type": "markdown",
   "metadata": {},
   "source": [
    "## Preámbulo\n",
    "No se puede importar de otros módulos, salvo que se consulte previamente con el profesor. "
   ]
  },
  {
   "cell_type": "code",
   "execution_count": 1,
   "metadata": {},
   "outputs": [],
   "source": [
    "# Importaciones\n",
    "import unittest\n",
    "import matplotlib.pyplot as plt\n",
    "from math import inf\n",
    "\n",
    "# \"Magics\":\n",
    "%matplotlib inline"
   ]
  },
  {
   "cell_type": "markdown",
   "metadata": {},
   "source": [
    "## Torres de Hanoi\n",
    "### Clase `Hanoi`"
   ]
  },
  {
   "cell_type": "code",
   "execution_count": 2,
   "metadata": {},
   "outputs": [],
   "source": [
    "class Hanoi:\n",
    "    \"\"\"Clase para representar las torres de Hanoi.\"\"\"\n",
    "\n",
    "    def __init__(self, discos, num_postes=None):\n",
    "        \"\"\"\n",
    "        El parámetro discos es un entero o una secuencia.\n",
    "        Si es un entero se refiere al número de discos en el primer poste.\n",
    "        Si es una secuencia, cada elemento indica en qué poste está el disco.\n",
    "        Los postes se identifican como 1, 2, 3...\n",
    "        El primer elemento de la secuencia se refiere al disco más pequeño,\n",
    "        el último al más grande.\n",
    "        El parámetro num_postes es el número de postes.\n",
    "        Si num_postes es None, será el máximo de 3 y el mayor valor que aparezca\n",
    "        en discos\n",
    "        \"\"\"\n",
    "       \n",
    "        if isinstance(discos, int):\n",
    "            discos = [1] * discos # todos los discos en el poste 1\n",
    "        else:\n",
    "            discos = list(discos)    \n",
    "        self._discos = discos\n",
    "        \n",
    "        if num_postes is None:\n",
    "            num_postes = max(3, max(discos))#Se queda con 3 o con el mayor de los postes.\n",
    "            print(num_postes)\n",
    "            print(max(discos))\n",
    "            print(discos)\n",
    "        \n",
    "        self._num_postes = num_postes\n",
    "\n",
    "        # Almacenamos los postes como una lista de listas\n",
    "        self._postes = [[] for _ in range(num_postes)]\n",
    "        i = len(discos)\n",
    "        for d in discos[::-1]:\n",
    "            self._postes[d - 1].append(i)\n",
    "            i -= 1\n",
    "\n",
    "    def __len__(self):\n",
    "        \"\"\"Devuelve el número de discos\"\"\"\n",
    "        \n",
    "        return len(self._discos)\n",
    "\n",
    "    def mueve(self, origen, destino):\n",
    "        \"\"\"Mueve el disco superior del poste origen al poste destino.\"\"\"\n",
    "        \n",
    "        assert 1 <= origen <= self._num_postes\n",
    "        assert 1 <= destino <= self._num_postes\n",
    "\n",
    "        poste_origen = self._postes[origen - 1]\n",
    "        poste_destino = self._postes[destino - 1]\n",
    "               \n",
    "        assert len(poste_origen) > 0 # hay discos en el poste origen\n",
    "        disco = poste_origen[-1]\n",
    "\n",
    "        # comprobamos si podemos mover el disco:\n",
    "        assert (len(poste_destino) == 0 # el destino está vacío\n",
    "                or disco < poste_destino[-1]) # contiene un disco mayor\n",
    "\n",
    "        # movemos:\n",
    "        self._discos[disco - 1] = destino\n",
    "        poste_origen.pop()\n",
    "        poste_destino.append(disco)\n",
    "    \n",
    "    def __str__(self):\n",
    "        return str(self._discos)\n",
    "    \n",
    "    def realiza_movimientos(self, movimientos, imprime=False, dibuja=False):\n",
    "        \"\"\"\n",
    "        Realiza varios movimientos, cada movimiento se indica como un par\n",
    "        (origen, destino).\n",
    "        \"\"\"\n",
    "        \n",
    "        if imprime:\n",
    "            self.imprime()\n",
    "        if dibuja:\n",
    "            self.dibuja()\n",
    "        for origen, destino in movimientos:\n",
    "            self.mueve(origen, destino)\n",
    "            if imprime:\n",
    "                print(\"\\n\", origen, \"->\", destino, sep=\"\")\n",
    "                self.imprime()\n",
    "            if dibuja:\n",
    "                self.dibuja()\n",
    "\n",
    "    def imprime(self):        \n",
    "        \"\"\"Imprime una representación gráfica de las torres\"\"\"\n",
    "\n",
    "        n = len(self)\n",
    "        for nivel in range(len(self) - 1, -1, -1):\n",
    "            for poste in self._postes:\n",
    "                if nivel >= len(poste):\n",
    "                    print(\"|\", \" \" * (n - 1), sep=\"\", end=\" \")\n",
    "                else:\n",
    "                    disco = poste[nivel]\n",
    "                    print(\"X\" * disco, \" \" * (n - disco), sep=\"\", end=\" \")\n",
    "            print()\n",
    "        for _ in self._postes:\n",
    "            print(\"=\" * n, sep=\" \", end=\" \")\n",
    "        print()\n",
    "        \n",
    "    def dibuja(self):\n",
    "        \"\"\"Dibuja una representación gráfica de las torres\"\"\"\n",
    "        \n",
    "        f, axs = plt.subplots(1, self._num_postes, sharex=False, sharey=True, \n",
    "                              figsize=(self._num_postes, 1))\n",
    "        n = len(self)\n",
    "        for a, p in zip(axs, self._postes):\n",
    "            a.set_aspect(1)\n",
    "            a.axis('off')\n",
    "            p = p + [0] * (n - len(p))\n",
    "            left = [(n - x) / 2 for x in p]\n",
    "            a.barh(range(n), p, height=1, left=left)\n",
    "        plt.tight_layout()\n",
    "        plt.show()\n",
    "\n",
    "    def resuelve(self, destino=None):\n",
    "        \"\"\"\n",
    "        Resuelve el problema, moviendo todos los discos al poste destino,\n",
    "        partiendo de cualquier configuración inicial.\n",
    "        Si el argumento destino es None, el poste destino es el último.\n",
    "        Devuelve una secuencia con los movimientos, cada movimiento es un par\n",
    "        (origen, destino).\n",
    "        Si hay más de 3 postes, el resto también se deberían utilizar en algunos \n",
    "        casos.\n",
    "        \"\"\"\n",
    "        #Definiciones iniciales\n",
    "        destino =  len(self._postes) if destino == None else destino\n",
    "        movimientos = []\n",
    "        num = len(self._discos)\n",
    "        a = self.calculoOrigen(num)\n",
    "        b=destino\n",
    "        pAux = []\n",
    "\n",
    "        #Para cuando hay mas de 3 postes\n",
    "        if self._num_postes >3:\n",
    "            pAux = self.calculoAux(a,b,[], True)\n",
    "            for aux in range(len(pAux)-1):\n",
    "                pAux2 = pAux[aux]\n",
    "                self.mover(a,pAux2,movimientos)\n",
    "\n",
    "            pAux.pop()\n",
    "\n",
    "        #Llamada a la funcion recursiva para la resolucion.\n",
    "        movimientos.extend(self.solveRecursivo(num, destino, pAux))\n",
    "            \n",
    "        return tuple(movimientos)\n",
    "\n",
    "    #Funcion Recursiva para resolucion de Hanoi\n",
    "    def solveRecursivo(self, n, b, usedPegs = []):\n",
    "        movimientos = []\n",
    "        a = self.calculoOrigen(n)\n",
    "        auxi = self.calculoAux(a,b,usedPegs)\n",
    "        if n == 1:\n",
    "            self.mover(a,b,movimientos)\n",
    "        if n > 1:\n",
    "            aux=self.solveRecursivo(n-1, auxi)\n",
    "            self.extendMoves(aux,movimientos)\n",
    "\n",
    "            self.mover(a,b,movimientos)\n",
    "\n",
    "            aux=self.solveRecursivo(n-1, b)\n",
    "            self.extendMoves(aux,movimientos)\n",
    "            \n",
    "        return movimientos\n",
    "    \n",
    "    #Funciones Auxiliares.\n",
    "    def extendMoves(self, aux=None, movimientos=[]):\n",
    "        if aux is not None:\n",
    "                movimientos.extend(aux)\n",
    "\n",
    "    def mover(self,a,b,movimientos=[]):\n",
    "        if (len(self._postes[a - 1]) > 0):\n",
    "            if self._postes[b - 1] == [] or self._postes[a - 1][-1] < self._postes[b - 1][-1]:\n",
    "                self.mueve(a, b)\n",
    "                movimientos.append((a,b))\n",
    "    def calculoOrigen(self, n):\n",
    "        return [i for i in range(self._num_postes) if n in self._postes[i]][0]+1\n",
    "\n",
    "    def calculoAux(self,a,b,usedPegs=[],isAll = False):\n",
    "        #isAll es \n",
    "        if isAll:\n",
    "            return [i for i in range(1,self._num_postes) if (i != a and i != b)]\n",
    "        else:\n",
    "            return [i for i in range(self._num_postes) if  (i != a-1 and i != b-1 and i+1 not in usedPegs)][0]+1\n",
    "\n",
    "\n"
   ]
  },
  {
   "cell_type": "markdown",
   "metadata": {},
   "source": [
    "### Impresión de las torres"
   ]
  },
  {
   "cell_type": "code",
   "execution_count": 3,
   "metadata": {},
   "outputs": [
    {
     "name": "stdout",
     "output_type": "stream",
     "text": [
      "3\n",
      "1\n",
      "[1, 1, 1]\n",
      "3\n",
      "1\n",
      "[1, 1, 1, 1]\n",
      "3\n",
      "3\n",
      "[1, 2, 3]\n",
      "3\n",
      "3\n",
      "[1, 2, 3, 1, 2, 3]\n",
      "X   |   |   \n",
      "XX  |   |   \n",
      "XXX |   |   \n",
      "=== === === \n",
      "X    |    |    \n",
      "XX   |    |    \n",
      "XXX  |    |    \n",
      "XXXX |    |    \n",
      "==== ==== ==== \n",
      "X   |   |   |   |   \n",
      "XX  |   |   |   |   \n",
      "XXX |   |   |   |   \n",
      "=== === === === === \n",
      "|   |   |   \n",
      "|   |   |   \n",
      "X   XX  XXX \n",
      "=== === === \n",
      "|      |      |      \n",
      "|      |      |      \n",
      "|      |      |      \n",
      "|      |      |      \n",
      "X      XX     XXX    \n",
      "XXXX   XXXXX  XXXXXX \n",
      "====== ====== ====== \n",
      "|    |    |    |    \n",
      "|    |    |    |    \n",
      "|    |    |    |    \n",
      "X    XXX  XXXX XX   \n",
      "==== ==== ==== ==== \n",
      "|      |      |      |      |      |      |      |      |      |      \n",
      "|      |      |      |      |      |      |      |      |      |      \n",
      "|      |      |      |      |      |      |      |      |      |      \n",
      "X      |      |      |      |      |      |      |      |      XX     \n",
      "XXX    |      |      |      |      |      |      |      |      XXXX   \n",
      "XXXXX  |      |      |      |      |      |      |      |      XXXXXX \n",
      "====== ====== ====== ====== ====== ====== ====== ====== ====== ====== \n",
      "3\n",
      "1\n",
      "[1, 1, 1]\n",
      "X   |   |   \n",
      "XX  |   |   \n",
      "XXX |   |   \n",
      "=== === === \n",
      "\n",
      "1->2\n",
      "|   |   |   \n",
      "XX  |   |   \n",
      "XXX X   |   \n",
      "=== === === \n",
      "\n",
      "1->3\n",
      "|   |   |   \n",
      "|   |   |   \n",
      "XXX X   XX  \n",
      "=== === === \n",
      "\n",
      "2->3\n",
      "|   |   |   \n",
      "|   |   X   \n",
      "XXX |   XX  \n",
      "=== === === \n"
     ]
    }
   ],
   "source": [
    "for h in (\n",
    "    Hanoi(3), Hanoi(4), Hanoi(3, 5), Hanoi([1, 2, 3]),  Hanoi([1, 2, 3] * 2), \n",
    "    Hanoi([1, 4, 2, 3], 4), Hanoi([1, 10] * 3, 10)\n",
    "):\n",
    "    h.imprime()\n",
    "    \n",
    "h = Hanoi(3)    \n",
    "h.realiza_movimientos(((1, 2), (1, 3), (2, 3)), imprime=True)"
   ]
  },
  {
   "cell_type": "markdown",
   "metadata": {},
   "source": [
    "### Dibujo de las torres"
   ]
  },
  {
   "cell_type": "code",
   "execution_count": 4,
   "metadata": {},
   "outputs": [
    {
     "name": "stdout",
     "output_type": "stream",
     "text": [
      "3\n",
      "1\n",
      "[1, 1, 1]\n",
      "3\n",
      "1\n",
      "[1, 1, 1, 1]\n",
      "3\n",
      "3\n",
      "[1, 2, 3]\n",
      "3\n",
      "3\n",
      "[1, 2, 3, 1, 2, 3]\n"
     ]
    },
    {
     "data": {
      "image/png": "[encoded data removed]",
      "text/plain": [
       "<Figure size 216x72 with 3 Axes>"
      ]
     },
     "metadata": {
      "needs_background": "light"
     },
     "output_type": "display_data"
    },
    {
     "data": {
      "image/png": "[encoded data removed]",
      "text/plain": [
       "<Figure size 216x72 with 3 Axes>"
      ]
     },
     "metadata": {
      "needs_background": "light"
     },
     "output_type": "display_data"
    },
    {
     "data": {
      "image/png": "[encoded data removed]",
      "text/plain": [
       "<Figure size 360x72 with 5 Axes>"
      ]
     },
     "metadata": {
      "needs_background": "light"
     },
     "output_type": "display_data"
    },
    {
     "data": {
      "image/png": "[encoded data removed]",
      "text/plain": [
       "<Figure size 216x72 with 3 Axes>"
      ]
     },
     "metadata": {
      "needs_background": "light"
     },
     "output_type": "display_data"
    },
    {
     "data": {
      "image/png": "[encoded data removed]",
      "text/plain": [
       "<Figure size 216x72 with 3 Axes>"
      ]
     },
     "metadata": {
      "needs_background": "light"
     },
     "output_type": "display_data"
    },
    {
     "data": {
      "image/png": "[encoded data removed]",
      "text/plain": [
       "<Figure size 288x72 with 4 Axes>"
      ]
     },
     "metadata": {
      "needs_background": "light"
     },
     "output_type": "display_data"
    },
    {
     "data": {
      "image/png": "[encoded data removed]",
      "text/plain": [
       "<Figure size 720x72 with 10 Axes>"
      ]
     },
     "metadata": {
      "needs_background": "light"
     },
     "output_type": "display_data"
    },
    {
     "name": "stdout",
     "output_type": "stream",
     "text": [
      "3\n",
      "1\n",
      "[1, 1, 1]\n"
     ]
    },
    {
     "data": {
      "image/png": "[encoded data removed]",
      "text/plain": [
       "<Figure size 216x72 with 3 Axes>"
      ]
     },
     "metadata": {
      "needs_background": "light"
     },
     "output_type": "display_data"
    },
    {
     "data": {
      "image/png": "[encoded data removed]",
      "text/plain": [
       "<Figure size 216x72 with 3 Axes>"
      ]
     },
     "metadata": {
      "needs_background": "light"
     },
     "output_type": "display_data"
    },
    {
     "data": {
      "image/png": "[encoded data removed]",
      "text/plain": [
       "<Figure size 216x72 with 3 Axes>"
      ]
     },
     "metadata": {
      "needs_background": "light"
     },
     "output_type": "display_data"
    },
    {
     "data": {
      "image/png": "[encoded data removed]",
      "text/plain": [
       "<Figure size 216x72 with 3 Axes>"
      ]
     },
     "metadata": {
      "needs_background": "light"
     },
     "output_type": "display_data"
    }
   ],
   "source": [
    "for h in (\n",
    "    Hanoi(3), Hanoi(4), Hanoi(3, 5), Hanoi([1, 2, 3]),  Hanoi([1, 2, 3] * 2), \n",
    "    Hanoi([1, 4, 2, 3], 4), Hanoi([1, 10] * 3, 10)\n",
    "):\n",
    "    h.dibuja()\n",
    "    \n",
    "h = Hanoi(3)    \n",
    "h.realiza_movimientos(((1, 2), (1, 3), (2, 3)), dibuja=True)    "
   ]
  },
  {
   "cell_type": "markdown",
   "metadata": {},
   "source": [
    "## Tests para Hanoi"
   ]
  },
  {
   "cell_type": "code",
   "execution_count": 5,
   "metadata": {},
   "outputs": [],
   "source": [
    "class TestHanoi(unittest.TestCase):\n",
    "    \n",
    "    @staticmethod\n",
    "    def postes_usados(movimientos):\n",
    "        \"\"\"\n",
    "        Devuelve el número de postes usados en una secuencia de movimientos.\n",
    "        \"\"\"\n",
    "        return len(set((y for x in movimientos for y in x)))\n",
    "         \n",
    "    def test_3_3_3(self):\n",
    "        # 3 discos en el poste 1, mover al poste 3\n",
    "        h = Hanoi(3)\n",
    "        movimientos = h.resuelve()\n",
    "        self.assertEqual(str(h), \"[3, 3, 3]\")\n",
    "        h = Hanoi(3)\n",
    "        h.realiza_movimientos(movimientos)\n",
    "        self.assertEqual(str(h), \"[3, 3, 3]\")\n",
    "        \n",
    "    def test_7_3_2(self):\n",
    "        # 7 discos en el poste 1, mover al poste 2\n",
    "        h = Hanoi(7)\n",
    "        movimientos = h.resuelve(2)\n",
    "        self.assertEqual(str(h), str([2] * 7))\n",
    "        h = Hanoi(7)\n",
    "        h.realiza_movimientos(movimientos)\n",
    "        self.assertEqual(str(h), str([2] * 7))\n",
    "           \n",
    "    def test_3_4_4(self):\n",
    "        # 3 discos en el poste 1, 4 postes\n",
    "        h = Hanoi(3, 4)\n",
    "        movimientos = h.resuelve()\n",
    "        self.assertEqual(str(h), str([4] * 3))\n",
    "        h = Hanoi(3, 4)\n",
    "        h.realiza_movimientos(movimientos)\n",
    "        self.assertEqual(str(h), str([4] * 3))    \n",
    "        self.assertEqual(self.postes_usados(movimientos), 4)\n",
    "     \n",
    "    def test_10_5_5(self):\n",
    "        # 10 discos en el poste 1, 5 postes\n",
    "        h = Hanoi(10, 5)\n",
    "        movimientos = h.resuelve()\n",
    "        self.assertEqual(str(h), str([5] * 10))\n",
    "        h = Hanoi(10, 5)\n",
    "        h.realiza_movimientos(movimientos)\n",
    "        self.assertEqual(str(h), str([5] * 10))  \n",
    "        self.assertEqual(self.postes_usados(movimientos), 5)\n",
    "        \n",
    "    def test_132_3_3(self):\n",
    "        # 3 discos repartidos en los 3 postes\n",
    "        discos = [1, 3, 2]\n",
    "        h = Hanoi(discos)\n",
    "        movimientos = h.resuelve()\n",
    "        self.assertEqual(str(h), str([3] * 3))\n",
    "        h = Hanoi(discos)\n",
    "        h.realiza_movimientos(movimientos)\n",
    "        self.assertEqual(str(h), str([3] * 3))     \n",
    "\n",
    "    def test_233122_3_3(self):\n",
    "        # 6 discos repartidos en los 3 postes\n",
    "        discos = [2, 3, 3, 1, 1, 2]\n",
    "        h = Hanoi(discos)\n",
    "        movimientos = h.resuelve()\n",
    "        self.assertEqual(str(h), str([3] * 6))\n",
    "        h = Hanoi(discos)\n",
    "        h.realiza_movimientos(movimientos)\n",
    "        self.assertEqual(str(h), str([3] * 6)) \n",
    "\n",
    "    def test_233112312_3_3(self):\n",
    "        # 9 discos repartidos en los 3 postes\n",
    "        discos = [2, 3, 3, 1, 1, 2, 3, 1, 2]\n",
    "        h = Hanoi(discos)\n",
    "        movimientos = h.resuelve()\n",
    "        self.assertEqual(str(h), str([3] * 9))\n",
    "        h = Hanoi(discos)\n",
    "        h.realiza_movimientos(movimientos)\n",
    "        self.assertEqual(str(h), str([3] * 9))\n",
    "        \n",
    "    def test_3341344221_4_4(self):\n",
    "        # 10 discos repartidos en 4 postes\n",
    "        discos = [3, 3, 4, 1, 3, 4, 4, 2, 2, 1]\n",
    "        h = Hanoi(discos)\n",
    "        movimientos = h.resuelve()\n",
    "        self.assertEqual(str(h), str([4] * 10))\n",
    "        h = Hanoi(discos)\n",
    "        h.realiza_movimientos(movimientos)\n",
    "        self.assertEqual(str(h), str([4] * 10))\n",
    "        self.assertEqual(self.postes_usados(movimientos), 4)\n",
    "        \n",
    "    def test_3341344221_6_6(self):\n",
    "        # 10 discos repartidos en los primeros 4 postes de 6\n",
    "        discos = [3, 3, 4, 1, 3, 4, 4, 2, 2, 1]\n",
    "        h = Hanoi(discos, 6)\n",
    "        movimientos = h.resuelve()\n",
    "        self.assertEqual(str(h), str([6] * 10))\n",
    "        h = Hanoi(discos, 6)\n",
    "        h.realiza_movimientos(movimientos)\n",
    "        self.assertEqual(str(h), str([6] * 10))\n",
    "        self.assertEqual(self.postes_usados(movimientos), 6)     \n",
    "    "
   ]
  },
  {
   "cell_type": "markdown",
   "metadata": {},
   "source": [
    "## Ejecución de tests"
   ]
  },
  {
   "cell_type": "code",
   "execution_count": 6,
   "metadata": {},
   "outputs": [
    {
     "name": "stderr",
     "output_type": "stream",
     "text": [
      "........."
     ]
    },
    {
     "name": "stdout",
     "output_type": "stream",
     "text": [
      "3\n",
      "3\n",
      "[1, 3, 2]\n",
      "3\n",
      "3\n",
      "[1, 3, 2]\n",
      "3\n",
      "3\n",
      "[2, 3, 3, 1, 1, 2, 3, 1, 2]\n",
      "3\n",
      "3\n",
      "[2, 3, 3, 1, 1, 2, 3, 1, 2]\n",
      "3\n",
      "3\n",
      "[2, 3, 3, 1, 1, 2]\n",
      "3\n",
      "3\n",
      "[2, 3, 3, 1, 1, 2]\n",
      "4\n",
      "4\n",
      "[3, 3, 4, 1, 3, 4, 4, 2, 2, 1]\n",
      "4\n",
      "4\n",
      "[3, 3, 4, 1, 3, 4, 4, 2, 2, 1]\n",
      "3\n",
      "1\n",
      "[1, 1, 1]\n",
      "3\n",
      "1\n",
      "[1, 1, 1]\n",
      "3\n",
      "1\n",
      "[1, 1, 1, 1, 1, 1, 1]\n",
      "3\n",
      "1\n",
      "[1, 1, 1, 1, 1, 1, 1]\n"
     ]
    },
    {
     "name": "stderr",
     "output_type": "stream",
     "text": [
      "\n",
      "----------------------------------------------------------------------\n",
      "Ran 9 tests in 0.029s\n",
      "\n",
      "OK\n"
     ]
    }
   ],
   "source": [
    "if __name__ == '__main__':\n",
    "    unittest.main(argv=['first-arg-is-ignored'], exit=False)"
   ]
  },
  {
   "cell_type": "code",
   "execution_count": null,
   "metadata": {},
   "outputs": [],
   "source": []
  }
 ],
 "metadata": {
  "kernelspec": {
   "display_name": "Python 3",
   "language": "python",
   "name": "python3"
  },
  "language_info": {
   "codemirror_mode": {
    "name": "ipython",
    "version": 3
   },
   "file_extension": ".py",
   "mimetype": "text/x-python",
   "name": "python",
   "nbconvert_exporter": "python",
   "pygments_lexer": "ipython3",
   "version": "3.8.5"
  }
 },
 "nbformat": 4,
 "nbformat_minor": 1
}
